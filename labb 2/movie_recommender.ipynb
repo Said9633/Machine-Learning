{
 "cells": [
  {
   "cell_type": "markdown",
   "id": "bce9dc53",
   "metadata": {},
   "source": [
    "### laboration "
   ]
  },
  {
   "cell_type": "code",
   "execution_count": 1,
   "id": "955670a0",
   "metadata": {},
   "outputs": [],
   "source": [
    "from recommendation import MovieRecommender\n",
    "recommender = MovieRecommender(\"ml-32m/movies.csv\", \"ml-32m/ratings.csv\", \"ml-32m/tags.csv\")"
   ]
  },
  {
   "cell_type": "code",
   "execution_count": null,
   "id": "73942446",
   "metadata": {},
   "outputs": [
    {
     "data": {
      "application/vnd.jupyter.widget-view+json": {
       "model_id": "4757de19fa2b423fbe800279e364d884",
       "version_major": 2,
       "version_minor": 0
      },
      "text/plain": [
       "VBox(children=(Text(value='', description='Movies:', layout=Layout(width='50%'), placeholder='Write a movietit…"
      ]
     },
     "metadata": {},
     "output_type": "display_data"
    }
   ],
   "source": [
    "recommender.fit()\n",
    "recommender.display()"
   ]
  }
 ],
 "metadata": {
  "kernelspec": {
   "display_name": "Python 3",
   "language": "python",
   "name": "python3"
  },
  "language_info": {
   "codemirror_mode": {
    "name": "ipython",
    "version": 3
   },
   "file_extension": ".py",
   "mimetype": "text/x-python",
   "name": "python",
   "nbconvert_exporter": "python",
   "pygments_lexer": "ipython3",
   "version": "3.11.9"
  }
 },
 "nbformat": 4,
 "nbformat_minor": 5
}
